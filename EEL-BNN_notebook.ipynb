{
 "cells": [
  {
   "cell_type": "markdown",
   "metadata": {},
   "source": [
    "# Evolutionary Ensemble Learning (EEL) for\n",
    "## Binary Neural Networks (BNN)"
   ]
  },
  {
   "cell_type": "code",
   "execution_count": 1,
   "metadata": {},
   "outputs": [],
   "source": [
    "# for local testing\n",
    "import sys\n",
    "sys.path.append('../autopandas')\n",
    "%load_ext autoreload\n",
    "%autoreload 2"
   ]
  },
  {
   "cell_type": "code",
   "execution_count": 2,
   "metadata": {},
   "outputs": [],
   "source": [
    "from eel import EEL\n",
    "import autopandas as apd\n",
    "import numpy as np\n",
    "from sklearn.metrics import accuracy_score\n",
    "from sklearn.neural_network import MLPClassifier\n",
    "from time import time # compute training time\n",
    "from asizeof import asizeof # compute memory usage"
   ]
  },
  {
   "cell_type": "code",
   "execution_count": 3,
   "metadata": {},
   "outputs": [],
   "source": [
    "data = apd.read_csv('../autopandas/autopandas/data/mushrooms.csv')\n",
    "data.set_class('class')\n",
    "\n",
    "# to have labels beginning by 0 and avoid missing data\n",
    "data = data.process()"
   ]
  },
  {
   "cell_type": "code",
   "execution_count": 4,
   "metadata": {},
   "outputs": [],
   "source": [
    "# data\n",
    "X_train = np.array(data('X_train'))\n",
    "y_train = np.array(data('y_train'))\n",
    "X_test = np.array(data('X_test'))\n",
    "y_test = np.array(data('y_test'))"
   ]
  },
  {
   "cell_type": "code",
   "execution_count": 5,
   "metadata": {},
   "outputs": [
    {
     "name": "stdout",
     "output_type": "stream",
     "text": [
      "Memory allocated to model: 10368\n"
     ]
    }
   ],
   "source": [
    "# model\n",
    "layers = [data.input_size(), 10, data.output_size()]\n",
    "model = EEL(layers=layers, n_estimators=8, l=32)\n",
    "# int8 instead of true binary variables\n",
    "print('Memory allocated to model: {}'.format(asizeof(model)))"
   ]
  },
  {
   "cell_type": "code",
   "execution_count": 6,
   "metadata": {},
   "outputs": [
    {
     "data": {
      "text/plain": [
       "(8124, 23)"
      ]
     },
     "execution_count": 6,
     "metadata": {},
     "output_type": "execute_result"
    }
   ],
   "source": [
    "data.shape"
   ]
  },
  {
   "cell_type": "code",
   "execution_count": 16,
   "metadata": {},
   "outputs": [
    {
     "name": "stdout",
     "output_type": "stream",
     "text": [
      "WARNING: random_batch argument is currently useless in multi_batch mode.\n",
      "Elapsed time: 4.966513395309448\n"
     ]
    },
    {
     "data": {
      "image/png": "[encoded data removed]",
      "text/plain": [
       "<Figure size 432x288 with 1 Axes>"
      ]
     },
     "metadata": {},
     "output_type": "display_data"
    },
    {
     "data": {
      "image/png": "[encoded data removed]",
      "text/plain": [
       "<Figure size 432x288 with 1 Axes>"
      ]
     },
     "metadata": {},
     "output_type": "display_data"
    }
   ],
   "source": [
    "# training\n",
    "model.fit(X_train, y_train, epochs=200, p=0.0005, constant_p=True, batch_size=200,\n",
    "          multi_batch=True, random_batch=True, keep=False, force_diversity=False, loss_function='log_loss', verbose=True)"
   ]
  },
  {
   "cell_type": "code",
   "execution_count": 17,
   "metadata": {},
   "outputs": [
    {
     "name": "stdout",
     "output_type": "stream",
     "text": [
      "EEL-BNN training score: 0.7754527870582029\n",
      "EEL-BNN testing score: 0.7747230201066886\n"
     ]
    }
   ],
   "source": [
    "y_pred = model.predict(X_train, soft=False)\n",
    "print('EEL-BNN training score: {}'.format(accuracy_score(y_train, y_pred)))\n",
    "y_pred = model.predict(X_test, soft=False)\n",
    "print('EEL-BNN testing score: {}'.format(accuracy_score(y_test, y_pred)))"
   ]
  },
  {
   "cell_type": "code",
   "execution_count": 9,
   "metadata": {},
   "outputs": [
    {
     "name": "stdout",
     "output_type": "stream",
     "text": [
      "Memory allocated to model: 2576\n"
     ]
    },
    {
     "name": "stderr",
     "output_type": "stream",
     "text": [
      "/usr/lib/python3.7/site-packages/sklearn/neural_network/multilayer_perceptron.py:921: DataConversionWarning: A column-vector y was passed when a 1d array was expected. Please change the shape of y to (n_samples, ), for example using ravel().\n",
      "  y = column_or_1d(y, warn=True)\n"
     ]
    },
    {
     "name": "stdout",
     "output_type": "stream",
     "text": [
      "Elapsed time: 1.48173189163208\n"
     ]
    },
    {
     "name": "stderr",
     "output_type": "stream",
     "text": [
      "/usr/lib/python3.7/site-packages/sklearn/neural_network/multilayer_perceptron.py:566: ConvergenceWarning: Stochastic Optimizer: Maximum iterations (200) reached and the optimization hasn't converged yet.\n",
      "  % self.max_iter, ConvergenceWarning)\n"
     ]
    }
   ],
   "source": [
    "# MLP with the same architecture for comparison\n",
    "\n",
    "clf = MLPClassifier(hidden_layer_sizes=(10,), max_iter=200)\n",
    "print('Memory allocated to model: {}'.format(asizeof(clf)))\n",
    "t0 = time()\n",
    "clf.fit(X_train, y_train)\n",
    "t1 = time()\n",
    "print('Elapsed time: {}'.format(t1 - t0))"
   ]
  },
  {
   "cell_type": "code",
   "execution_count": 10,
   "metadata": {},
   "outputs": [
    {
     "name": "stdout",
     "output_type": "stream",
     "text": [
      "MLP training score: 0.9975382451204502\n",
      "MLP testing score: 0.9975379565038982\n"
     ]
    }
   ],
   "source": [
    "print('MLP training score: {}'.format(clf.score(X_train, y_train)))\n",
    "print('MLP testing score: {}'.format(clf.score(X_test, y_test)))"
   ]
  },
  {
   "cell_type": "code",
   "execution_count": 11,
   "metadata": {},
   "outputs": [
    {
     "name": "stdout",
     "output_type": "stream",
     "text": [
      "Baseline score (Random Forest)\n"
     ]
    },
    {
     "data": {
      "text/plain": [
       "1.0"
      ]
     },
     "execution_count": 11,
     "metadata": {},
     "output_type": "execute_result"
    }
   ],
   "source": [
    "# baseline for comparison\n",
    "print('Baseline score (Random Forest)')\n",
    "data.score()"
   ]
  },
  {
   "cell_type": "code",
   "execution_count": null,
   "metadata": {},
   "outputs": [],
   "source": []
  }
 ],
 "metadata": {
  "kernelspec": {
   "display_name": "Python 3",
   "language": "python",
   "name": "python3"
  },
  "language_info": {
   "codemirror_mode": {
    "name": "ipython",
    "version": 3
   },
   "file_extension": ".py",
   "mimetype": "text/x-python",
   "name": "python",
   "nbconvert_exporter": "python",
   "pygments_lexer": "ipython3",
   "version": "3.7.4"
  }
 },
 "nbformat": 4,
 "nbformat_minor": 2
}
